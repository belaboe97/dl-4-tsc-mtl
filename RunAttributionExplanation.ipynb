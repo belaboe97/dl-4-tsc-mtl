{
 "cells": [
  {
   "cell_type": "code",
   "execution_count": 1,
   "id": "418e75d2",
   "metadata": {},
   "outputs": [],
   "source": [
    "from utils.utils import calculate_attributions\n",
    "import matplotlib.pyplot as plt \n",
    "import numpy as np"
   ]
  },
  {
   "cell_type": "code",
   "execution_count": 11,
   "id": "b00454b2",
   "metadata": {},
   "outputs": [
    {
     "data": {
      "text/plain": [
       "'\\noutput_directory = f\\'G:/My Drive/master thesis/code/dl-4-tsc-mtl/results/ucr/{dataset}/fcn/fcn_itr_/original/\\'\\natt_train = np.load(output_directory + f\"calculated_attribution_train_{task}.npy\",allow_pickle=True)\\natt_test = np.load(output_directory + f\"calculated_attribution_test_{task}.npy\",allow_pickle=True)'"
      ]
     },
     "execution_count": 11,
     "metadata": {},
     "output_type": "execute_result"
    }
   ],
   "source": [
    "import pandas as pd\n",
    "import numpy as np\n",
    "dataset = \"GunPoint\"\n",
    "task  = 'task_1'\n",
    "\"\"\"\n",
    "output_directory = f'G:/My Drive/master thesis/code/dl-4-tsc-mtl/results/ucr/{dataset}/fcn/fcn_itr_/original/'\n",
    "att_train = np.load(output_directory + f\"calculated_attribution_train_{task}.npy\",allow_pickle=True)\n",
    "att_test = np.load(output_directory + f\"calculated_attribution_test_{task}.npy\",allow_pickle=True)\"\"\""
   ]
  },
  {
   "cell_type": "code",
   "execution_count": 70,
   "id": "62a58972",
   "metadata": {},
   "outputs": [
    {
     "name": "stdout",
     "output_type": "stream",
     "text": [
      "G:/My Drive/master thesis/code/dl-4-tsc-mtl/results/ucr/GunPoint/fcn/fcn_itr_/original/best_model.hdf5\n",
      "(50, 150, 1) (150, 150, 1)\n"
     ]
    },
    {
     "data": {
      "text/plain": [
       "'/content/drive/My Drive/master thesis/code/dl-4-tsc-mtl/results/ucr/GunPoint/fcn/fcn_itr_/original/best_model.hdf5'"
      ]
     },
     "execution_count": 70,
     "metadata": {},
     "output_type": "execute_result"
    }
   ],
   "source": [
    "root_dir = 'G:/My Drive/master thesis/code/dl-4-tsc-mtl'\n",
    "archive_name = 'ucr'\n",
    "classifier = 'fcn_itr_'\n",
    "dataset_name =  'GunPoint'\n",
    "data_source = 'original'\n",
    "mode = 'stl'\n",
    "\n",
    "from utils.utils import read_dataset\n",
    "\n",
    "def calculate_att_per_timestep(root_dir, archive_name, classifier, dataset_name, data_source, mode, task=1):\n",
    "    #import tensorflow_addons as tfa\n",
    "    import tensorflow.keras as keras\n",
    "    import sklearn\n",
    "    import os\n",
    "\n",
    "    max_length = 2000\n",
    "    \n",
    "    if task == 1: \n",
    "        datasets_dict = read_dataset(root_dir, archive_name, dataset_name,  'original')\n",
    "    elif task == 2: \n",
    "        datasets_dict = read_dataset(root_dir, archive_name, dataset_name,   data_source)\n",
    "        \n",
    "    x_train, y_train, x_test, y_test = datasets_dict[dataset_name]\n",
    "\n",
    "    # transform to binary labels\n",
    "    enc = sklearn.preprocessing.OneHotEncoder()\n",
    "    enc.fit(np.concatenate((y_train, y_test), axis=0).reshape(-1, 1))\n",
    "    y_train_binary = enc.transform(y_train.reshape(-1, 1)).toarray()\n",
    "    \n",
    "    orgx_train = x_train\n",
    "    orgx_test = x_test\n",
    "    \n",
    "    x_train = x_train.reshape(x_train.shape[0], x_train.shape[1], 1)\n",
    "    x_test  = x_test.reshape(x_test.shape[0], x_test.shape[1], 1)\n",
    "\n",
    "    model = keras.models.load_model( f'{root_dir}/results/{archive_name}/{dataset_name}/' \\\n",
    "                                        + f'{classifier.split(\"_\")[0]}/{classifier}/{data_source}/' \\\n",
    "                                        + f'best_model.hdf5',compile=False)\n",
    "\n",
    "    if mode == 'stl': \n",
    "        relu, softm = (-3,-1)\n",
    "        \n",
    "    w_k_c = model.layers[softm].get_weights()[0]  # weights for each filter k for each class c\n",
    "\n",
    "    # the same input\n",
    "    new_input_layer = model.inputs\n",
    "    new_output_layer = [model.layers[relu].output, model.layers[softm].output]\n",
    "    new_feed_forward = keras.backend.function(new_input_layer, new_output_layer)\n",
    "    output = []\n",
    "\n",
    "    for orgx_vals,x_vals,y_vals in [[orgx_train,x_train,y_train],[orgx_test,x_test,y_test]]:\n",
    "        attr = list()\n",
    "        for idx,ts in enumerate(x_vals):\n",
    "            ts = ts.reshape(1, -1, 1)\n",
    "            [conv_out, predicted] = new_feed_forward([ts])\n",
    "            cas = np.zeros(dtype=np.float64, shape=(conv_out.shape[1]))\n",
    "\n",
    "            for k, w in enumerate(w_k_c[:,int(y_vals[idx]-1)]):\n",
    "                cas += w * conv_out[0, :, k] \n",
    "            attr.append([y_vals,orgx_vals[idx],cas])\n",
    "        output.append(attr)\n",
    "    return output\n",
    "att_train,att_test = calculate_att(root_dir, archive_name, classifier,  dataset_name, data_source, mode, task=1)\n",
    "\n",
    "\"/content/drive/My Drive/master thesis/code/dl-4-tsc-mtl/results/ucr/GunPoint/fcn/fcn_itr_/original/best_model.hdf5\""
   ]
  },
  {
   "cell_type": "code",
   "execution_count": 73,
   "id": "db50b80f",
   "metadata": {},
   "outputs": [
    {
     "name": "stdout",
     "output_type": "stream",
     "text": [
      "G:/My Drive/master thesis/code/dl-4-tsc-mtl/results/ucr/GunPoint/fcn/fcn_itr_/original/best_model.hdf5\n",
      "(50, 150, 1) (150, 150, 1)\n"
     ]
    }
   ],
   "source": [
    "att = calculate_att(root_dir, archive_name, classifier,  dataset_name, data_source, mode, task=1)"
   ]
  },
  {
   "cell_type": "code",
   "execution_count": 72,
   "id": "ca1b4c8c",
   "metadata": {},
   "outputs": [
    {
     "data": {
      "text/plain": [
       "<matplotlib.collections.PathCollection at 0x2cfb57588e0>"
      ]
     },
     "execution_count": 72,
     "metadata": {},
     "output_type": "execute_result"
    },
    {
     "data": {
      "image/png": "[encoded data removed]",
      "text/plain": [
       "<Figure size 432x288 with 1 Axes>"
      ]
     },
     "metadata": {
      "needs_background": "light"
     },
     "output_type": "display_data"
    }
   ],
   "source": [
    "%matplotlib inline\n",
    "\n",
    "plt.scatter(np.arange(len(att_train[0][1])),att_train[0][1],c=att_train[0][2],cmap='jet', marker='.', s=2, vmin=0, vmax=100, linewidths=2.0)"
   ]
  },
  {
   "cell_type": "code",
   "execution_count": 75,
   "id": "ecae331c",
   "metadata": {},
   "outputs": [
    {
     "data": {
      "text/plain": [
       "[array([[ 2.        ,  2.        ,  1.        , ..., -0.26595339,\n",
       "         -0.76490394, -0.19633039],\n",
       "        [ 2.        ,  2.        ,  1.        , ..., -0.27871747,\n",
       "         -0.76107595, -0.19983189],\n",
       "        [ 2.        ,  2.        ,  1.        , ...,  0.43241382,\n",
       "          1.04015972,  0.02578511],\n",
       "        ...,\n",
       "        [ 2.        ,  2.        ,  1.        , ..., -0.7435846 ,\n",
       "         -0.93719258, -0.95432915],\n",
       "        [ 2.        ,  2.        ,  1.        , ...,  0.51422926,\n",
       "          1.04485   ,  0.01454503],\n",
       "        [ 2.        ,  2.        ,  1.        , ..., -0.79064568,\n",
       "         -2.06388897, -0.34125896]]),\n",
       " array([[ 1.        ,  2.        ,  2.        , ..., -1.30257881,\n",
       "          1.73566708,  0.54202425],\n",
       "        [ 1.        ,  2.        ,  2.        , ..., -0.32569549,\n",
       "         -0.77477224, -0.21530297],\n",
       "        [ 1.        ,  2.        ,  2.        , ..., 24.69570383,\n",
       "          5.8048848 , -0.08741638],\n",
       "        ...,\n",
       "        [ 1.        ,  2.        ,  2.        , ..., -0.30554028,\n",
       "         -0.75416544, -0.21055339],\n",
       "        [ 1.        ,  2.        ,  2.        , ..., -0.71632787,\n",
       "         -1.7630322 , -0.42646016],\n",
       "        [ 1.        ,  2.        ,  2.        , ...,  1.17119188,\n",
       "          2.03906707,  0.48429158]])]"
      ]
     },
     "execution_count": 75,
     "metadata": {},
     "output_type": "execute_result"
    }
   ],
   "source": [
    "def create_pointwise_explanation(attributions):\n",
    "    output = []\n",
    "    for split in attributions:\n",
    "        explanations = []\n",
    "        for ts in split: \n",
    "            y_values = ts[0]\n",
    "            attributions = ts[2]\n",
    "            explanations.append(np.concatenate((y_values,attributions), axis=None))    \n",
    "        output.append(np.array(explanations))\n",
    "    return output\n",
    "\n",
    "create_explanations(att)"
   ]
  },
  {
   "cell_type": "code",
   "execution_count": null,
   "id": "22c17e50",
   "metadata": {},
   "outputs": [],
   "source": [
    "def save_explanations(data, root_dir, archive_name, appendix, dataset_name):\n",
    "    train_explanation,test_explanation = data\n",
    "    print(train_explanation.shape, test_explanation.shape)\n",
    "    dir_path = root_dir + '/archives/' + archive_name + '/' + dataset_name + '/' + appendix + '/' \n",
    "    create_directory(dir_path)\n",
    "    np.savetxt(dir_path + dataset_name + \"_TRAIN\", train_explanation, delimiter=',')\n",
    "    np.savetxt(dir_path + dataset_name + \"_TEST\", test_explanation, delimiter=',')\n",
    "    print(\"Successfully created explanation done.\")"
   ]
  }
 ],
 "metadata": {
  "kernelspec": {
   "display_name": "Python 3",
   "language": "python",
   "name": "python3"
  },
  "language_info": {
   "codemirror_mode": {
    "name": "ipython",
    "version": 3
   },
   "file_extension": ".py",
   "mimetype": "text/x-python",
   "name": "python",
   "nbconvert_exporter": "python",
   "pygments_lexer": "ipython3",
   "version": "3.8.8"
  }
 },
 "nbformat": 4,
 "nbformat_minor": 5
}
