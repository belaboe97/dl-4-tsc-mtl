{
 "cells": [
  {
   "cell_type": "markdown",
   "id": "e488cedc",
   "metadata": {},
   "source": [
    "### Imports and Functions for calulating Attributions"
   ]
  },
  {
   "cell_type": "code",
   "execution_count": 2,
   "id": "d49a3412",
   "metadata": {},
   "outputs": [],
   "source": [
    "from builtins import print\n",
    "import numpy as np\n",
    "import pandas as pd\n",
    "import matplotlib\n",
    "from keras_contrib.layers.normalization.instancenormalization import InstanceNormalization\n",
    "from keras.utils.generic_utils import CustomObjectScope\n",
    "#from tensorflow.keras.utils import CustomObjectScope\n",
    "\n",
    "import tensorflow_addons as tfa\n",
    "\n",
    "matplotlib.use('agg')\n",
    "import matplotlib.pyplot as plt\n",
    "\n",
    "matplotlib.rcParams['font.family'] = 'sans-serif'\n",
    "matplotlib.rcParams['font.sans-serif'] = 'Arial'\n",
    "import os\n",
    "import operator\n",
    "\n",
    "#import utils\n",
    "\n",
    "from utils.constants import UNIVARIATE_DATASET_NAMES as DATASET_NAMES\n",
    "from utils.constants import UNIVARIATE_DATASET_NAMES_2018 as DATASET_NAMES_2018\n",
    "from utils.constants import ARCHIVE_NAMES  as ARCHIVE_NAMES\n",
    "from utils.constants import CLASSIFIERS\n",
    "from utils.constants import ITERATIONS\n",
    "from utils.constants import MTS_DATASET_NAMES\n",
    "\n",
    "from sklearn.metrics import accuracy_score\n",
    "from sklearn.metrics import precision_score\n",
    "from sklearn.metrics import recall_score\n",
    "from sklearn.preprocessing import LabelEncoder\n",
    "\n",
    "import tensorflow.keras as keras\n",
    "\n",
    "from scipy.interpolate import interp1d\n",
    "from scipy.io import loadmat"
   ]
  },
  {
   "cell_type": "code",
   "execution_count": 9,
   "id": "8be1355f",
   "metadata": {},
   "outputs": [
    {
     "name": "stdout",
     "output_type": "stream",
     "text": [
      "G:/My Drive/master thesis/code/dl-4-tsc-mtl/archives/ucr/GunPoint/GunPoint_TRAIN\n",
      "G:/My Drive/master thesis/code/dl-4-tsc-mtl/archives/ucr/GunPoint/GunPoint_TEST\n"
     ]
    }
   ],
   "source": [
    "root_dir = \"G:/My Drive/master thesis/code/dl-4-tsc-mtl\"\n",
    "\n",
    "def readucr(filename):\n",
    "    print(filename)\n",
    "    data = np.loadtxt(filename, delimiter=',')\n",
    "    Y = data[:, 0]\n",
    "    X = data[:, 1:]\n",
    "    return X, Y\n",
    "\n",
    "def read_dataset(root_dir, archive_name, dataset_name):\n",
    "\n",
    "    datasets_dict = {}\n",
    "    cur_root_dir = root_dir.replace('-temp', '')\n",
    "\n",
    "    file_name = cur_root_dir + '/archives/' + archive_name + '/' + dataset_name + '/' + dataset_name\n",
    "    x_train, y_train = readucr(file_name + '_TRAIN')\n",
    "    x_test, y_test = readucr(file_name + '_TEST')\n",
    "    datasets_dict[dataset_name] = (x_train.copy(), y_train.copy(), x_test.copy(),\n",
    "                                   y_test.copy())\n",
    "    \n",
    "    return datasets_dict\n",
    "\n",
    "\n",
    "def viz_cam(root_dir, train_data=True, task1= True):\n",
    "    import tensorflow.keras as keras\n",
    "    import sklearn\n",
    "    \n",
    "    classifier = 'fcn_mt'\n",
    "    archive_name = 'ucr'\n",
    "    dataset_name = 'GunPoint'\n",
    "\n",
    "    max_length = 2000\n",
    "    datasets_dict = read_dataset(root_dir, archive_name, dataset_name)\n",
    "    \n",
    "    if train_data == True:\n",
    "        x_train = datasets_dict[dataset_name][0]\n",
    "        y_train = datasets_dict[dataset_name][1]\n",
    "    else: \n",
    "        x_train = datasets_dict[dataset_name][2]\n",
    "        y_train = datasets_dict[dataset_name][3]\n",
    "    \n",
    "    y_test = datasets_dict[dataset_name][3]\n",
    "    \n",
    "    # transform to binary labels\n",
    "    enc = sklearn.preprocessing.OneHotEncoder()\n",
    "    enc.fit(np.concatenate((y_train, y_test), axis=0).reshape(-1, 1))\n",
    "    y_train_binary = enc.transform(y_train.reshape(-1, 1)).toarray()\n",
    "\n",
    "    x_train = x_train.reshape(x_train.shape[0], x_train.shape[1], 1)\n",
    "\n",
    "\n",
    "    with CustomObjectScope({'InstanceNormalization':tfa.layers.InstanceNormalization()}):\n",
    "        model = keras.models.load_model(\n",
    "        root_dir + '/results/' + classifier + '/' + archive_name + '_itr_4' + '/' + dataset_name + '/best_model.hdf5',compile=False)\n",
    "\n",
    "    # filters\n",
    "    relu, softm = (-4,-2) if task1 else (-4,-1)\n",
    "    \n",
    "    w_k_c = model.layers[softm].get_weights()[0]  # weights for each filter k for each class c\n",
    "\n",
    "    # the same input\n",
    "    new_input_layer = model.inputs\n",
    "\n",
    "    # Output is both the original as well as the before last layer\n",
    "    # layers[-3] : KerasTensor(type_spec=TensorSpec(shape=(None, 150, 128), dtype=tf.float32, name=None), name='activation_8/Relu:0', description=\"created by layer 'activation_8'\") \n",
    "    # layers[-1] : KerasTensor(type_spec=TensorSpec(shape=(None, 2), dtype=tf.float32, name=None), name='dense/Softmax:0', description=\"created by layer 'dense'\")\n",
    "\n",
    "    new_output_layer = [model.layers[relu].output, model.layers[softm].output]\n",
    "\n",
    "    new_feed_forward = keras.backend.function(new_input_layer, new_output_layer)\n",
    "    classes = np.unique(y_train)\n",
    "    \n",
    "    attr = []\n",
    "\n",
    "    for c in classes:\n",
    "        #plt.figure()\n",
    "        count = 0\n",
    "        #find all time series for a class\n",
    "        ts_class = np.where(y_train == c)\n",
    "        #get time series data \n",
    "        c_x_train = x_train[ts_class]\n",
    "        for idx,ts in enumerate(c_x_train):\n",
    "            ts_nr=ts_class[0][idx]\n",
    "            ts = ts.reshape(1, -1, 1)\n",
    "            [conv_out, predicted] = new_feed_forward([ts])\n",
    "            pred_label = np.argmax(predicted)\n",
    "            orig_label = np.argmax(enc.transform([[c]]))\n",
    "            if True: \n",
    "                cas = np.zeros(dtype=np.float64, shape=(conv_out.shape[1]))\n",
    "                for k, w in enumerate(w_k_c[:, orig_label]):\n",
    "                    cas += w * conv_out[0, :, k] \n",
    "                minimum = np.min(cas)\n",
    "                cas = cas - minimum\n",
    "                cas = cas / max(cas)\n",
    "                cas = cas * 100\n",
    "                x = np.linspace(0, ts.shape[1] - 1, max_length, endpoint=True)\n",
    "                # linear interpolation to smooth\n",
    "                f = interp1d(range(ts.shape[1]), ts[0, :, 0])\n",
    "                y = f(x)\n",
    "                f = interp1d(range(ts.shape[1]), cas)\n",
    "                cas = f(x).astype(int)\n",
    "                attr.append([ts_nr,x,y,cas])\n",
    "    return attr\n",
    "\n",
    "attr = viz_cam(root_dir, True)\n"
   ]
  },
  {
   "cell_type": "markdown",
   "id": "3310b545",
   "metadata": {},
   "source": [
    "### TED Explanation. "
   ]
  },
  {
   "cell_type": "code",
   "execution_count": 5,
   "id": "ed1ca96b",
   "metadata": {},
   "outputs": [],
   "source": [
    "def get_len_and_step_size(attributions, slices=5):\n",
    "    attr_len  = len(attributions)\n",
    "    step_size = int(attr_len / slices)\n",
    "    return attr_len,step_size"
   ]
  },
  {
   "cell_type": "code",
   "execution_count": 108,
   "id": "0a9612d3",
   "metadata": {},
   "outputs": [
    {
     "name": "stdout",
     "output_type": "stream",
     "text": [
      "G:/My Drive/master thesis/code/dl-4-tsc-mtl/archives/ucr/GunPoint/GunPoint_TRAIN\n",
      "G:/My Drive/master thesis/code/dl-4-tsc-mtl/archives/ucr/GunPoint/GunPoint_TEST\n",
      "3\n"
     ]
    },
    {
     "data": {
      "image/png": "[encoded data removed]",
      "text/plain": [
       "<Figure size 1440x360 with 4 Axes>"
      ]
     },
     "metadata": {
      "needs_background": "light"
     },
     "output_type": "display_data"
    }
   ],
   "source": [
    "%matplotlib inline\n",
    "\n",
    "root_dir = \"G:/My Drive/master thesis/code/dl-4-tsc-mtl\"\n",
    "attr = viz_cam(root_dir, True)\n",
    "\n",
    "ts=0\n",
    "fig, axes = plt.subplots(nrows=1, ncols=3, figsize=(20, 5))\n",
    "\n",
    "sp = plt.scatter(x=attr[ts][1], y=attr[ts][2], c=attr[ts][3], cmap='jet', marker='.', s=2, vmin=0, vmax=100, linewidths=0.0)\n",
    "\n",
    "sl = None\n",
    "mean_att = 0\n",
    "l1,l2 = (0,0)\n",
    "attr_len, step_size = get_len_and_step_size(attr[0][3],5)\n",
    "for i,x in enumerate(range(0,attr_len,step_size)):\n",
    "\n",
    "    lower_bound = attr[ts][1][x]\n",
    "    upper_bound = attr[ts][1][x+step_size-1]\n",
    "    axes[0].axvspan(lower_bound,upper_bound,color=\"red\",alpha=0.3)\n",
    "    cur_mean = attr[ts][3][x:x+step_size-1].mean()\n",
    "    if cur_mean > mean_att: \n",
    "        sl = i\n",
    "        mean_att = cur_mean \n",
    "        l1,l2 = (lower_bound, upper_bound)\n",
    "\n",
    "axes[0].scatter(x=attr[ts][1], y=attr[ts][2], linewidths=0.0)\n",
    "axes[1].scatter(x=attr[ts][1], y=attr[ts][2], c=attr[ts][3], cmap='jet', marker='.', s=2, vmin=0, vmax=100, linewidths=2.0)\n",
    "axes[2].scatter(x=attr[ts][1], y=attr[ts][2], c=attr[ts][3], cmap='jet', marker='.', s=2, vmin=0, vmax=100, linewidths=2.0)\n",
    "\n",
    "fig.colorbar(sp)\n",
    "axes[2].axvspan(l1,l2,color=\"red\",alpha=0.3)\n",
    "\n",
    "for i,x in enumerate(range(0,2000,400)):\n",
    "    axes[0].axvspan(attr[ts][1][x],attr[ts][1][x+399],color=\"red\",alpha=0.3)\n",
    "    \n",
    "\n",
    "print(sl)"
   ]
  },
  {
   "cell_type": "code",
   "execution_count": 11,
   "id": "517078ed",
   "metadata": {},
   "outputs": [],
   "source": [
    "from collections import Counter\n",
    "\n",
    "def highest_mean_attribution(att,slices): \n",
    "    attr_len, step_size = get_len_and_step_size(att,slices)\n",
    "    candidates = []\n",
    "    for x in range(0,attr_len,step_size):\n",
    "        candidates.append(att[x:x+step_size-1].mean())\n",
    "    return np.argmax(candidates)"
   ]
  },
  {
   "cell_type": "code",
   "execution_count": 12,
   "id": "21828895",
   "metadata": {},
   "outputs": [
    {
     "name": "stdout",
     "output_type": "stream",
     "text": [
      "G:/My Drive/master thesis/code/dl-4-tsc-mtl/archives/ucr/GunPoint/GunPoint_TRAIN\n",
      "G:/My Drive/master thesis/code/dl-4-tsc-mtl/archives/ucr/GunPoint/GunPoint_TEST\n",
      "G:/My Drive/master thesis/code/dl-4-tsc-mtl/archives/ucr/GunPoint/GunPoint_TRAIN\n",
      "G:/My Drive/master thesis/code/dl-4-tsc-mtl/archives/ucr/GunPoint/GunPoint_TEST\n",
      "G:/My Drive/master thesis/code/dl-4-tsc-mtl/archives/ucr/GunPoint/GunPoint_TRAIN\n",
      "G:/My Drive/master thesis/code/dl-4-tsc-mtl/archives/ucr/GunPoint/GunPoint_TEST\n",
      "Counter({3: 23, 0: 17, 1: 5, 4: 4, 2: 1}) 50\n",
      "Counter({3: 76, 0: 32, 4: 17, 1: 16, 2: 9}) 150\n"
     ]
    }
   ],
   "source": [
    "root_dir = \"G:/My Drive/master thesis/code/dl-4-tsc-mtl\"\n",
    "archive_name = 'ucr'\n",
    "dataset_name = 'GunPoint'\n",
    "\n",
    "datasets_dict = read_dataset(root_dir, archive_name, dataset_name)\n",
    "\n",
    "x_train = datasets_dict[dataset_name][0]\n",
    "y_train = datasets_dict[dataset_name][1]\n",
    "x_test = datasets_dict[dataset_name][2]\n",
    "y_test = datasets_dict[dataset_name][3]\n",
    "\n",
    "train_attr = viz_cam(root_dir, True)\n",
    "test_attr = viz_cam(root_dir, False)\n",
    "\n",
    "def create_explanations(x,attributions):\n",
    "    explanations = np.zeros((x.shape[0], x.shape[1]+1))\n",
    "    labels = []\n",
    "    for ts in attributions: \n",
    "        ts_nr = ts[0]\n",
    "        x_values = x[ts_nr]\n",
    "        label = highest_mean_attribution(ts[3],5)\n",
    "        labels.append(label)\n",
    "        explanations[ts_nr] = np.concatenate((label,x_values), axis=None)\n",
    "    print(Counter(labels), len(labels))\n",
    "    return explanations\n",
    "\n",
    "x_train_exp = create_explanations(x_train, train_attr)\n",
    "x_test_exp  = create_explanations(x_test, test_attr)"
   ]
  },
  {
   "cell_type": "code",
   "execution_count": 14,
   "id": "a537ec45",
   "metadata": {},
   "outputs": [
    {
     "name": "stdout",
     "output_type": "stream",
     "text": [
      "Successfully done.\n",
      "Successfully done.\n"
     ]
    }
   ],
   "source": [
    "def save_dataset(data, root_dir, archive_name,dataset_name,train=True):\n",
    "    ext = \"_Exp\"\n",
    "    dataset_name = dataset_name + \"_Exp\"\n",
    "    add = \"_TRAIN\" if train else \"_TEST\"\n",
    "    np.savetxt(root_dir + '/archives/' + archive_name + '/' + dataset_name + '/' + dataset_name + add , data, delimiter=',')\n",
    "    print(\"Successfully done.\")\n",
    "\n",
    "save_dataset(x_train_exp,root_dir,archive_name,dataset_name,train=True)\n",
    "save_dataset(x_test_exp,root_dir,archive_name,dataset_name,train=False)"
   ]
  },
  {
   "cell_type": "markdown",
   "id": "4e0dd7f5",
   "metadata": {},
   "source": [
    "### Second iteration: \n",
    "\n",
    "#### Balancing the classes "
   ]
  },
  {
   "cell_type": "code",
   "execution_count": 147,
   "id": "c1f12c25",
   "metadata": {},
   "outputs": [
    {
     "name": "stdout",
     "output_type": "stream",
     "text": [
      "(200, 151) (200, 151)\n",
      "Counter({3.0: 99, 0.0: 49, 1.0: 21, 4.0: 21, 2.0: 10})\n",
      "Final train dataset Task1/Task2: Counter({2.0: 30, 1.0: 26}) Counter({3.0: 14, 1.0: 14, 4.0: 14, 0.0: 14})\n",
      "Final test dataset Task1/Task2: Counter({2.0: 31, 1.0: 25}) Counter({3.0: 31, 0.0: 15, 4.0: 5, 1.0: 5})\n"
     ]
    }
   ],
   "source": [
    "#Originial Dataset: \n",
    "train_path = \"G:/My Drive/master thesis/code/dl-4-tsc-mtl/archives/ucr/GunPoint/GunPoint_TRAIN\"\n",
    "train_data = np.loadtxt(train_path, delimiter=',')\n",
    "test_path = \"G:/My Drive/master thesis/code/dl-4-tsc-mtl/archives/ucr/GunPoint/GunPoint_TEST\"\n",
    "test_data = np.loadtxt(test_path, delimiter=',')\n",
    "#Concetante both arrays \n",
    "new_x = np.concatenate((train_data,test_data), axis=0)\n",
    "new_x_exp = np.concatenate((x_train_exp, x_test_exp), axis=0)\n",
    "print(new_x.shape,new_x_exp.shape)\n",
    "#Counter, for GunPoint delete timeseries with segment 2\n",
    "\n",
    "print(Counter(new_x_exp[:,0])) \n",
    "#Delete 2\n",
    "filter_out = np.where(new_x_exp[:,0] == 2.0)[0]\n",
    "#new_x = new_x[~np.isin(np.arange(new_x.size), filter_out)]\n",
    "new_x = np.delete(new_x, filter_out, axis=0)\n",
    "new_x_exp = np.delete(new_x_exp, filter_out, axis=0)\n",
    "\n",
    "#12 in the training, training set approximately ~ 50 as original one \n",
    "\n",
    "import math\n",
    "#keep roughly 0.7 percent for training. => highly unbalanced training dataset\n",
    "keep = math.floor(sorted(list(Counter(new_x_exp[:,0]).values()),reverse=True)[-1]*0.7) \n",
    "\n",
    "#for list(Counter(new_x_exp[:,0]).keys())\n",
    "\n",
    "train_idx = [np.random.choice(np.where(new_x_exp[:,0] == i)[0], keep, replace=False) \\\n",
    "             for i in list(Counter(new_x_exp[:,0]).keys())]\n",
    "\n",
    "#print(np.random.choice(np.where(new_x_exp[:,0] == 3)[0], keep, replace=False))\n",
    "#print([i for i in list(Counter(new_x_exp[:,0]).keys())])\n",
    "\n",
    "\n",
    "train_idx = np.array(train_idx).flatten()\n",
    "\n",
    "#Train data\n",
    "new_x_train = new_x[train_idx]\n",
    "new_x_exp_train = new_x_exp[train_idx]\n",
    "\n",
    "#Test data\n",
    "new_x_test  = new_x[~train_idx]\n",
    "new_x_exp_test = new_x_exp[~train_idx]\n",
    "\n",
    "\n",
    "print(\"Final train dataset Task1/Task2:\", Counter(new_x_train[:,0]), Counter(new_x_exp_train[:,0]))\n",
    "print(\"Final test dataset Task1/Task2:\", Counter(new_x_test[:,0]), Counter(new_x_exp_test[:,0]))"
   ]
  },
  {
   "cell_type": "code",
   "execution_count": 149,
   "id": "4d898e22",
   "metadata": {},
   "outputs": [
    {
     "name": "stdout",
     "output_type": "stream",
     "text": [
      "Successfully done.\n",
      "Successfully done.\n",
      "Successfully done.\n",
      "Successfully done.\n"
     ]
    }
   ],
   "source": [
    "def save_dataset(data, root_dir, archive_name,dataset_name,train=True, original=False):\n",
    "    ext = \"_Exp\" if not original else \"\"\n",
    "    dataset_name = dataset_name + ext\n",
    "    add = \"_TRAIN\" if train else \"_TEST\"\n",
    "    np.savetxt(root_dir + '/archives/' + archive_name + '/' + dataset_name + '/' + dataset_name + add , data, delimiter=',')\n",
    "    print(\"Successfully done.\")\n",
    "\n",
    "#Save balanced class original task 1\n",
    "\"\"\"\n",
    "save_dataset(new_x_train,root_dir,archive_name,dataset_name,train=True, original=True)\n",
    "save_dataset(new_x_test,root_dir,archive_name,dataset_name,train=False, original=True)    \n",
    "\n",
    "\"\"\"\n",
    "#Save balanced class expl task 2   \n",
    "save_dataset(new_x_exp_train,root_dir,archive_name,dataset_name,train=True)\n",
    "save_dataset(new_x_exp_test,root_dir,archive_name,dataset_name,train=False)"
   ]
  }
 ],
 "metadata": {
  "kernelspec": {
   "display_name": "Python 3",
   "language": "python",
   "name": "python3"
  },
  "language_info": {
   "codemirror_mode": {
    "name": "ipython",
    "version": 3
   },
   "file_extension": ".py",
   "mimetype": "text/x-python",
   "name": "python",
   "nbconvert_exporter": "python",
   "pygments_lexer": "ipython3",
   "version": "3.8.8"
  }
 },
 "nbformat": 4,
 "nbformat_minor": 5
}
